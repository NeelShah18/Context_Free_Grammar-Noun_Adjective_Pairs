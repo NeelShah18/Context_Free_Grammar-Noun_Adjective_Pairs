{
 "cells": [
  {
   "cell_type": "code",
   "execution_count": 48,
   "metadata": {
    "collapsed": true
   },
   "outputs": [],
   "source": [
    "import nltk\n",
    "from nltk.tokenize import sent_tokenize\n",
    "from nltk.tokenize import word_tokenize\n",
    "from nltk import Tree\n",
    "from nltk import pos_tag\n",
    "from nltk.chunk import RegexpParser\n",
    "from nltk import ne_chunk"
   ]
  },
  {
   "cell_type": "code",
   "execution_count": 49,
   "metadata": {
    "collapsed": true
   },
   "outputs": [],
   "source": [
    "def tokenizer_master(sentence):\n",
    "    sentss = sent_tokenize(sentence.lower())\n",
    "    sentss2 = []\n",
    "    for each_sent in sentss:\n",
    "        sentss2.extend([word_tokenize(each_sent)])\n",
    "    return sentss2\n",
    "\n",
    "def tagged_sents(document):\n",
    "    tagged_sentences = [pos_tag(sent) for sent in document]\n",
    "    return tagged_sentences"
   ]
  },
  {
   "cell_type": "code",
   "execution_count": 50,
   "metadata": {
    "collapsed": true
   },
   "outputs": [],
   "source": [
    "def get_chunks(tagged_sentences):\n",
    "    master_list = []\n",
    "    master_noun = []\n",
    "    master_adj = []\n",
    "    grammar = r\"\"\"\n",
    "    CHUNK1:\n",
    "        {<NN.*><.*>?<JJ.*>}  # Any Noun terminated with Any Adjective\n",
    "    \n",
    "    CHUNK2:\n",
    "        {<NN.*|JJ.*><.*>?<NN.*>}  # Nouns or Adjectives, terminated with Nouns\n",
    "    \"\"\"\n",
    "    cp = RegexpParser(grammar)\n",
    "    for sent in tagged_sentences:\n",
    "        tree = cp.parse(sent)\n",
    "        for subtree in tree.subtrees(filter = lambda t: t.label() in ['CHUNK1', 'CHUNK2']):\n",
    "            #print(subtree)\n",
    "            if (str(subtree).find('NN') >0 or str(subtree).find('NNS') >0 or str(subtree).find('NNP') >0) and (str(subtree).find('JJ')>0 or str(subtree).find('JJS')>0 or str(subtree).find('JJR')>0):\n",
    "                #words = [word for word, tag in subtree.leaves() if tag in ['JJ','JJR','JJS','NN', 'NNS','NNP']]\n",
    "                nouns = [word for word, tag in subtree.leaves() if tag in ['NN', 'NNS','NNP']]\n",
    "                adjss = [word for word, tag in subtree.leaves() if tag in ['JJ','JJR','JJS']]\n",
    "                #print words\n",
    "                #master_list.extend([words])\n",
    "                master_noun.extend([nouns])\n",
    "                master_adj.extend([adjss])\n",
    "    #return master_list\n",
    "    return [m[0]+\": \"+n[0] for m,n in zip(master_noun,master_adj)]"
   ]
  },
  {
   "cell_type": "code",
   "execution_count": 51,
   "metadata": {
    "collapsed": false
   },
   "outputs": [],
   "source": [
    "text = '''Food was good, but ambience was bad. Staff were helpful though.'''"
   ]
  },
  {
   "cell_type": "markdown",
   "metadata": {},
   "source": [
    "#### Get Noun-Adjective pairs through context free grammar rules."
   ]
  },
  {
   "cell_type": "code",
   "execution_count": 52,
   "metadata": {
    "collapsed": false
   },
   "outputs": [
    {
     "data": {
      "text/plain": [
       "['food: good', 'ambience: bad', 'staff: helpful']"
      ]
     },
     "execution_count": 52,
     "metadata": {},
     "output_type": "execute_result"
    }
   ],
   "source": [
    "get_chunks(tagged_sents(tokenizer_master(text)))"
   ]
  },
  {
   "cell_type": "code",
   "execution_count": null,
   "metadata": {
    "collapsed": true
   },
   "outputs": [],
   "source": []
  }
 ],
 "metadata": {
  "kernelspec": {
   "display_name": "Python 2",
   "language": "python",
   "name": "python2"
  },
  "language_info": {
   "codemirror_mode": {
    "name": "ipython",
    "version": 2
   },
   "file_extension": ".py",
   "mimetype": "text/x-python",
   "name": "python",
   "nbconvert_exporter": "python",
   "pygments_lexer": "ipython2",
   "version": "2.7.12"
  }
 },
 "nbformat": 4,
 "nbformat_minor": 1
}
